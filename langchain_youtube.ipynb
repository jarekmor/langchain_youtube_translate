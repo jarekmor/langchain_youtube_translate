{
 "cells": [
  {
   "cell_type": "code",
   "execution_count": null,
   "metadata": {},
   "outputs": [],
   "source": [
    "# !pip install youtube-transcript-api"
   ]
  },
  {
   "cell_type": "code",
   "execution_count": 1,
   "metadata": {},
   "outputs": [],
   "source": [
    "import os\n",
    "from dotenv import load_dotenv\n",
    "from pprint import pprint\n",
    "\n",
    "load_dotenv()\n",
    "\n",
    "OPENAI_API_KEY = os.getenv('OPENAI_API_KEY')"
   ]
  },
  {
   "cell_type": "code",
   "execution_count": 2,
   "metadata": {},
   "outputs": [],
   "source": [
    "from langchain.document_loaders import YoutubeLoader"
   ]
  },
  {
   "cell_type": "code",
   "execution_count": 3,
   "metadata": {},
   "outputs": [],
   "source": [
    "loader = YoutubeLoader.from_youtube_url(\n",
    "    \"https://www.youtube.com/watch?v=QsYGlZkevEg\", add_video_info=True)\n",
    "transcription = loader.load()\n",
    "text_from_youtube = transcription[0].page_content"
   ]
  },
  {
   "cell_type": "code",
   "execution_count": 4,
   "metadata": {},
   "outputs": [
    {
     "name": "stdout",
     "output_type": "stream",
     "text": [
      "('LADIES AND GENTLEMEN, PEDRO PASCAL! [ CHEERS AND APPLAUSE ] >> THANK YOU, '\n",
      " \"THANK YOU. THANK YOU VERY MUCH. I'M SO EXCITED TO BE HERE. THANK YOU. I \"\n",
      " 'SPENT THE LAST YEAR SHOOTING A SHOW CALLED \"THE LAST OF US\" ON HBO. FOR SOME '\n",
      " 'HBO SHOES, YOU GET TO SHOOT IN A FIVE STAR ITALIAN RESORT SURROUNDED BY '\n",
      " \"BEAUTIFUL PEOPLE, BUT I SAID, NO, THAT'S TOO EASY. I WANT TO SHOOT IN A \"\n",
      " 'FREEZING CANADIAN FOREST WHILE BEING CHASED AROUND BY A GUY WHOSE HEAD LOOKS '\n",
      " 'LIKE A GENITAL WART. IT IS AN HONOR BEING A PART OF THESE HUGE FRANCHISEs '\n",
      " 'LIKE \"GAME OF THRONES\" AND \"STAR WARS,\" BUT I\\'M STILL GETTING USED TO '\n",
      " 'PEOPLE RECOGNIZING ME. THE OTHER DAY, A GUY STOPPED ME ON THE STREET AND '\n",
      " 'SAYS, MY SON LOVES \"THE MANDALORIAN\" AND THE NEXT THING I KNOW, I\\'M FACE '\n",
      " 'TIMING WITH A 6-YEAR-OLD WHO HAS NO IDEA WHO I AM BECAUSE MY CHARACTER WEARS '\n",
      " \"A MASK THE ENTIRE SHOW. THE GUY IS LIKE, DO THE MANDO VOICE, BUT IT'S LIKE A \"\n",
      " 'BEDROOM VOICE. WITHOUT THE MASK, IT JUST SOUNDS PORNY. PEOPLE WALKING BY ON '\n",
      " 'THE STREET SEE ME WHISPERING TO A 6-YEAR-OLD KID. I CAN BRING YOU IN WARM, '\n",
      " 'OR I CAN BRING YOU IN COLD. EVEN THOUGH I CAME TO THE U.S. WHEN I WAS '\n",
      " 'LITTLE, I WAS BORN IN CHILE, AND I HAVE 34 FIRST COUSINS WHO ARE STILL '\n",
      " \"THERE. THEY'RE VERY PROUD OF ME. I KNOW THEY'RE PROUD BECAUSE THEY GIVE MY \"\n",
      " 'PHONE NUMBER TO EVERY PERSON THEY MEET, WHICH MEANS EVERY DAY, SOMEONE IN '\n",
      " 'SANTIAGO WILL TEXT ME STUFF LIKE, CAN YOU COME TO MY WEDDING, OR CAN YOU '\n",
      " 'SING MY PRIEST HAPPY BIRTHDAY, OR IS BABY YODA MEAN IN REAL LIFE. SO I HAVE '\n",
      " \"TO BE LIKE NO, NO, AND HIS NAME IS GROGU. BUT MY COUSINS WEREN'T ALWAYS SO \"\n",
      " 'PROUD. EARLY IN MY CAREER, I PLAYED SMALL PARTS IN EVERY CRIME SHOW. I EVEN '\n",
      " 'PLAYED TWO DIFFERENT CHARACTERS ON \"LAW AND ORDER.\" TITO CABASSA WHO LOOKED '\n",
      " 'LIKE THIS. AND ONE YEAR LATER, I PLAYED REGGIE LUCKMAN WHO LOOKS LIKE THIS. '\n",
      " 'AND THAT, MY FRIENDS, IS CALLED RANGE. BUT IT IS AMAZING TO BE HERE, LIKE I '\n",
      " 'SAID. I WAS BORN IN CHILE, AND NINE MONTHS LATER, MY PARENTS FLED AND '\n",
      " 'BROUGHT ME AND MY SISTER TO THE U.S. THEY WERE SO BRAVE, AND WITHOUT THEM, I '\n",
      " \"WOULDN'T BE HERE IN THIS WONDERFUL COUNTRY, AND I CERTAINLY WOULDN'T BE \"\n",
      " 'STANDING HERE WITH YOU ALL TONIGHT. SO TO ALL MY FAMILY WATCHING IN CHILE, I '\n",
      " 'WANT TO SAY [ SPEAKING NON-ENGLISH ] WHICH MEANS, I LOVE YOU, I MISS YOU, '\n",
      " \"AND STOP GIVING OUT MY PHONE NUMBER. WE'VE GOT AN AMAZING SHOW FOR YOU \"\n",
      " 'TONIGHT. COLDPLAY IS HERE, SO STICK')\n"
     ]
    }
   ],
   "source": [
    "pprint(text_from_youtube)"
   ]
  },
  {
   "cell_type": "code",
   "execution_count": 5,
   "metadata": {},
   "outputs": [],
   "source": [
    "from langchain import LLMChain\n",
    "from langchain.chat_models import ChatOpenAI\n",
    "from langchain.prompts.chat import (\n",
    "    ChatPromptTemplate,\n",
    "    SystemMessagePromptTemplate,\n",
    "    HumanMessagePromptTemplate,\n",
    ")\n",
    "\n",
    "chat = ChatOpenAI(temperature=0, model=\"gpt-3.5-turbo\")"
   ]
  },
  {
   "cell_type": "code",
   "execution_count": 6,
   "metadata": {},
   "outputs": [],
   "source": [
    "template = \"You are a helpful assistant that translates {input_language} to {output_language}.\"\n",
    "system_message_prompt = SystemMessagePromptTemplate.from_template(template)\n",
    "human_template = \"{text}\"\n",
    "human_message_prompt = HumanMessagePromptTemplate.from_template(human_template)\n",
    "chat_prompt = ChatPromptTemplate.from_messages([system_message_prompt, human_message_prompt])"
   ]
  },
  {
   "cell_type": "code",
   "execution_count": 7,
   "metadata": {},
   "outputs": [],
   "source": [
    "chain = LLMChain(llm=chat, prompt=chat_prompt)\n",
    "tlumaczenie_youtube = chain.run(input_language=\"English\", output_language=\"Polish\", text=text_from_youtube)"
   ]
  },
  {
   "cell_type": "code",
   "execution_count": 8,
   "metadata": {},
   "outputs": [
    {
     "name": "stdout",
     "output_type": "stream",
     "text": [
      "('PANIE I PANOWIE, PEDRO PASCAL! [OKLASKI I BRAWA] >> DZIĘKUJĘ, DZIĘKUJĘ. '\n",
      " 'BARDZO SIĘ CIESZĘ, ŻE TU JESTEM. DZIĘKUJĘ. OSTATNI ROK SPOŻYTKOWAŁEM NA '\n",
      " 'KRĘCENIE SERIALU \"THE LAST OF US\" DLA HBO. W NIEKTÓRYCH PRODUKCJACH HBO '\n",
      " 'MOŻNA KRĘCIĆ W PIĘCIOGWIAZDKOWYM WŁOSKIM KURORCIE OTOCZONY PIĘKNYMI LUDŹMI, '\n",
      " 'ALE JA POMYŚLAŁEM, ŻE TO ZA ŁATWE. CHCIAŁEM KRĘCIĆ W MROŹNYM KANADZKIM '\n",
      " 'LESIE, GONIONY PRZEZ FACETA, KTÓREGO GŁOWA WYGLĄDA JAK KOPULASTY BRODAL. TO '\n",
      " 'WIELKA HONOR BYĆ CZĘŚCIĄ TAKICH WIELKICH FRANCZYZ JAK \"GRA O TRON\" I '\n",
      " '\"GWIADOWE WOJNY\", ALE JESZCZE SIĘ PRZYZWYCZAJAM DO TEGO, ŻE LUDZIE MNIE '\n",
      " 'ROZPOZNAJĄ. OSTATNIO JAKIŚ FACET ZATRZYMAŁ MNIE NA ULICY I MÓWI, ŻE JEGO '\n",
      " 'SYNOWI BARDZO PODOBA SIĘ \"MANDALORIANIN\", A NASTĘPNIE ZACZĘŁEM ROZMOWĘ WIDEO '\n",
      " 'Z 6-LETNIM DZIECKIEM, KTÓRE NIE MA POJĘCIA, KIM JESTEM, BO MOJA POSTAĆ NOSI '\n",
      " 'MASKĘ PRZEZ CAŁY SERIAL. FACET MÓWI: \"POKAZZ MI GŁOS MANDO\", ALE TO BRZMI '\n",
      " 'JAK GŁOS ZE ŚPIWORU. BEZ MASKI TO BRZMI JAK PORNO. LUDZIE PRZECHODZĄCY OBOK '\n",
      " 'MNIEGO NA ULICY WIDZĄ, JAK SZEPTAM DO 6-LETNIEGO DZIECKA. MOGĘ CIĘ '\n",
      " 'PRZYPROWADZIĆ CIEPŁEGO, LUB MOGĘ CIĘ PRZYPROWADZIĆ ZIMNEGO. CHOĆ '\n",
      " 'PRZYJECHAŁEM DO USA, KIEDY BYŁEM MAŁY, URODZIŁEM SIĘ W CHILE, I MAM 34 '\n",
      " 'KUZYNÓW, KTÓRZY TAM JESZCZE SĄ. SĄ BARDZO DUMNI ZE MNIE. WIEM, ŻE SĄ DUMNI, '\n",
      " 'BO PODAJĄ MOJĄ NUMER TELEFONU KAŻDEJ OSOBIE, JAKĄ POZNAJĄ, CO OZNACZA, ŻE '\n",
      " 'KAŻDEGO DNIA KTOŚ Z SANTIAGO WYSYŁA MI WIADOMOŚCI TAKIE JAK: \"CZY MOŻESZ '\n",
      " 'PRZYJŚĆ NA MOJE WEDDING\", \"CZY MOŻESZ ZAŚPIEWAĆ MOJEMU KSIĘDZU NA URODZINY\" '\n",
      " 'LUB \"CZY BABY YODA JEST ZŁY W RZECZYWISTOŚCI\". WIĘC MUSZĘ MÓWIĆ: NIE, NIE, A '\n",
      " 'JEGO IMIĘ TO GROGU. ALE MOI KUZYNOWIE NIE ZAWSZE BYLI TAK DUMNI. NA POCZĄTKU '\n",
      " 'MOJEJ KARIERY GRAŁEM MAŁE ROLE W KAŻDYM SERIALU KRYMINALNYM. NAWET GRAŁEM '\n",
      " 'DWIE RÓŻNE POSTACIE W \"PRAWO I PORZĄDEK\". TITO CABASSA, KTÓRY WYGLĄDAŁ TAK. '\n",
      " 'A ROK PÓŹNIEJ GRAŁEM REGGIEGO LUCKMANA, KTÓRY WYGLĄDAŁ TAK. I TO, MOI '\n",
      " 'PRZYJACIELE, TO SIĘ NAZYWA ZAKRES. ALE TO NIESAMOWITE, ŻE TU JESTEM, JAK JUŻ '\n",
      " 'MÓWIŁEM. URODZIŁEM SIĘ W CHILE, A DZIEWIĘĆ MIESIĘCY PÓŹNIEJ MOI RODZICE '\n",
      " 'UCHRONILI MNIE I MOJĄ SIOSTRĘ I PRZYPROWADZILI NAS DO USA. BYLI TAK ODWAŻNI, '\n",
      " 'A BEZ NICH NIE BYŁBYM TU, W TYM WSPANIAŁYM KRAJU, I NA PEWNO NIE STANĄŁBYM '\n",
      " 'TU Z WAMI WSZYSTKIMI TEGO WIECZORA. WIĘC DO WSZYSTKICH MOICH RODZINNYCH '\n",
      " 'OGLĄDAJĄCYCH W CHILE, CHCĘ POWIEDZIEĆ [MÓWIĘC PO POLSKU] CO OZNACZA: KOCHAM '\n",
      " 'WAS, TĘSKNIĘ I PRZESTAŃCIE PODAWAĆ MOJEGO NUMERU TELEFONU. MAMY DLA WAS '\n",
      " 'WSPANIAŁY WYSTĘP TEGO WIECZORA. COLDPLAY JEST TU, WIĘC ZOSTAŃCIE')\n"
     ]
    }
   ],
   "source": [
    "pprint(tlumaczenie_youtube)"
   ]
  },
  {
   "cell_type": "code",
   "execution_count": null,
   "metadata": {},
   "outputs": [],
   "source": []
  }
 ],
 "metadata": {
  "kernelspec": {
   "display_name": "venv",
   "language": "python",
   "name": "python3"
  },
  "language_info": {
   "codemirror_mode": {
    "name": "ipython",
    "version": 3
   },
   "file_extension": ".py",
   "mimetype": "text/x-python",
   "name": "python",
   "nbconvert_exporter": "python",
   "pygments_lexer": "ipython3",
   "version": "3.10.6"
  },
  "orig_nbformat": 4
 },
 "nbformat": 4,
 "nbformat_minor": 2
}
